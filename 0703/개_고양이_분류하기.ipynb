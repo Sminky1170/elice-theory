{
  "nbformat": 4,
  "nbformat_minor": 0,
  "metadata": {
    "colab": {
      "private_outputs": true,
      "provenance": [],
      "gpuType": "T4"
    },
    "kernelspec": {
      "name": "python3",
      "display_name": "Python 3"
    },
    "language_info": {
      "name": "python"
    },
    "accelerator": "GPU"
  },
  "cells": [
    {
      "cell_type": "markdown",
      "source": [
        "## 1. Transfer Learning , 모델 불러오기"
      ],
      "metadata": {
        "id": "bpVsSjl86GUv"
      }
    },
    {
      "cell_type": "code",
      "execution_count": null,
      "metadata": {
        "id": "-N_82uGk6DEO"
      },
      "outputs": [],
      "source": [
        "import tensorflow as tf\n",
        "from tensorflow.keras.models import Sequential\n",
        "from tensorflow.keras.layers import Dense , Dropout, Flatten\n",
        "from tensorflow.keras.applications import VGG16, ResNet50"
      ]
    },
    {
      "cell_type": "code",
      "source": [
        "base_model = tf.keras.applications.VGG16(weights='imagenet',\n",
        "                                        include_top=False,\n",
        "                                        input_shape=(112,112,3))"
      ],
      "metadata": {
        "id": "wjDN6hhLDbJ0"
      },
      "execution_count": null,
      "outputs": []
    },
    {
      "cell_type": "code",
      "source": [
        "base_model.summary()"
      ],
      "metadata": {
        "id": "myB4xCV9EH7-"
      },
      "execution_count": null,
      "outputs": []
    },
    {
      "cell_type": "code",
      "source": [
        "model = Sequential([\n",
        "    base_model,\n",
        "    Flatten(),\n",
        "    Dense(64,activation='relu'),\n",
        "    Dropout(0.3)\n",
        "    Dense(4,activation='softmax')\n",
        "])"
      ],
      "metadata": {
        "id": "C_WrRrZYFcCJ"
      },
      "execution_count": null,
      "outputs": []
    },
    {
      "cell_type": "code",
      "source": [
        "model.summary()"
      ],
      "metadata": {
        "id": "U3-N1GqiFrCK"
      },
      "execution_count": null,
      "outputs": []
    },
    {
      "cell_type": "markdown",
      "source": [
        "## 2. ImageDataGenerator 사용해서 증강해보기"
      ],
      "metadata": {
        "id": "WApxKD_q6T2E"
      }
    },
    {
      "cell_type": "code",
      "source": [
        "import numpy as np\n",
        "import matplotlib.pyplot as plt\n",
        "\n",
        "from tensorflow.keras.preprocessing import image\n",
        "from tensorflow.keras.preprocessing.image import ImageDataGenerator"
      ],
      "metadata": {
        "id": "VQ_T2DCd6V--"
      },
      "execution_count": null,
      "outputs": []
    },
    {
      "cell_type": "code",
      "source": [
        "img = image.load_img(\"/content/고양이.jpg\",target_size=(150,150))"
      ],
      "metadata": {
        "id": "b9BKYQ7MIiAg"
      },
      "execution_count": null,
      "outputs": []
    },
    {
      "cell_type": "code",
      "source": [
        "plt.imshow(img)\n",
        "plt.show()"
      ],
      "metadata": {
        "id": "SdyMIwuIJIap"
      },
      "execution_count": null,
      "outputs": []
    },
    {
      "cell_type": "code",
      "source": [
        "datagen = ImageDataGenerator(\n",
        "    rotation_range = 90,\n",
        "    width_shift_range=0.4,\n",
        "    zoom_range=0.4,\n",
        "    # vertical_flip=True,\n",
        ")"
      ],
      "metadata": {
        "id": "OSfXWU6pJJF2"
      },
      "execution_count": null,
      "outputs": []
    },
    {
      "cell_type": "code",
      "source": [
        "datagen"
      ],
      "metadata": {
        "id": "un29Sjm6J1om"
      },
      "execution_count": null,
      "outputs": []
    },
    {
      "cell_type": "code",
      "source": [
        "image_batch =np.expand_dims(img, axis=0)"
      ],
      "metadata": {
        "id": "zvT1yWR_J3hF"
      },
      "execution_count": null,
      "outputs": []
    },
    {
      "cell_type": "code",
      "source": [
        "image_batch.shape"
      ],
      "metadata": {
        "id": "JRg_tUm1KEFG"
      },
      "execution_count": null,
      "outputs": []
    },
    {
      "cell_type": "code",
      "source": [
        "np.array(img).shape"
      ],
      "metadata": {
        "id": "VbytMbV3KIlc"
      },
      "execution_count": null,
      "outputs": []
    },
    {
      "cell_type": "code",
      "source": [
        "idx = 0\n",
        "fig = plt.figure(figsize=(10,10))\n",
        "axs = []\n",
        "for batch in datagen.flow(image_batch,batch_size=1):\n",
        "    axs.append(fig.add_subplot(5,2,idx+1))\n",
        "    axs[idx].imshow(image.array_to_img(batch[0]))\n",
        "    idx += 1\n",
        "    if idx%10 == 0:\n",
        "        break\n",
        "fig.tight_layout()\n",
        "plt.show()\n"
      ],
      "metadata": {
        "id": "0aIHS-GJKK7x"
      },
      "execution_count": null,
      "outputs": []
    },
    {
      "cell_type": "code",
      "source": [],
      "metadata": {
        "id": "3NSrppMRLLdA"
      },
      "execution_count": null,
      "outputs": []
    },
    {
      "cell_type": "markdown",
      "source": [
        "## 3. 개/고양이 데이터셋 불러오기"
      ],
      "metadata": {
        "id": "yM6CooCeNAqQ"
      }
    },
    {
      "cell_type": "code",
      "source": [
        "!wget https://storage.googleapis.com/mledu-datasets/cats_and_dogs_filtered.zip"
      ],
      "metadata": {
        "id": "kJW-hM-QNCiw"
      },
      "execution_count": null,
      "outputs": []
    },
    {
      "cell_type": "code",
      "source": [
        "import os, zipfile\n",
        "import shutil\n",
        "import numpy as np\n",
        "import pandas as pd\n",
        "import tensorflow as tf\n",
        "from tensorflow.keras.models import Sequential, Model\n",
        "from tensorflow.keras.layers import Dense, Dropout ,Input\n",
        "from tensorflow.keras.applications import ResNet50, MobileNet\n",
        "from tensorflow.keras.layers import Flatten, Conv2D, MaxPooling2D\n",
        "from tensorflow.keras.preprocessing.image import ImageDataGenerator"
      ],
      "metadata": {
        "id": "MubFNM5qNeP8"
      },
      "execution_count": null,
      "outputs": []
    },
    {
      "cell_type": "code",
      "source": [
        "device = tf.test.gpu_device_name() #/device:GPU:0\n",
        "print(device)"
      ],
      "metadata": {
        "id": "oF_Xqjd6OSlq"
      },
      "execution_count": null,
      "outputs": []
    },
    {
      "cell_type": "code",
      "source": [
        "with zipfile.ZipFile('/content/cats_and_dogs_filtered.zip','r') as z:\n",
        "    z.extractall()"
      ],
      "metadata": {
        "id": "C_xFCSCvOucg"
      },
      "execution_count": null,
      "outputs": []
    },
    {
      "cell_type": "code",
      "source": [
        "print(\"학습용 고양이 갯수\",len(os.listdir(\"/content/cats_and_dogs_filtered/train/cats\")))\n",
        "print(\"학습용 강아지 갯수\",len(os.listdir(\"/content/cats_and_dogs_filtered/train/dogs\")))\n",
        "print(\"평가용 고양이 갯수\",len(os.listdir(\"/content/cats_and_dogs_filtered/validation/cats\")))\n",
        "print(\"평가용 강아지 갯수\",len(os.listdir(\"/content/cats_and_dogs_filtered/validation/dogs\")))"
      ],
      "metadata": {
        "id": "OAt9TzplPVac"
      },
      "execution_count": null,
      "outputs": []
    },
    {
      "cell_type": "code",
      "source": [
        "pwd #print working directory"
      ],
      "metadata": {
        "id": "dgesX3-LPXUJ"
      },
      "execution_count": null,
      "outputs": []
    },
    {
      "cell_type": "code",
      "source": [
        "cd cats_and_dogs_filtered/"
      ],
      "metadata": {
        "id": "bhcwC524QX5x"
      },
      "execution_count": null,
      "outputs": []
    },
    {
      "cell_type": "code",
      "source": [
        "root_dir = \"/content/cats_and_dogs_filtered\""
      ],
      "metadata": {
        "id": "8Vr7SUpsQVaQ"
      },
      "execution_count": null,
      "outputs": []
    },
    {
      "cell_type": "code",
      "source": [
        "train_dir = os.path.join(root_dir, 'train_set')\n",
        "test_dir = os.path.join(root_dir, 'test_set')\n",
        "print(train_dir)\n",
        "print(test_dir)\n",
        "os.mkdir(train_dir)\n",
        "os.mkdir(test_dir)"
      ],
      "metadata": {
        "id": "XQci1253Qp2r"
      },
      "execution_count": null,
      "outputs": []
    },
    {
      "cell_type": "code",
      "source": [
        "test_cat = os.path.join(test_dir, 'cat')\n",
        "test_dog = os.path.join(test_dir, 'dog')\n",
        "print(test_cat)\n",
        "print(test_dog)\n",
        "\n",
        "os.mkdir(test_cat)\n",
        "os.mkdir(test_dog)"
      ],
      "metadata": {
        "id": "gyZOAdytRA-R"
      },
      "execution_count": null,
      "outputs": []
    },
    {
      "cell_type": "code",
      "source": [
        "train_datagen = ImageDataGenerator(rescale=1./255,\n",
        "                   rotation_range=40,\n",
        "                   width_shift_range=0.2,\n",
        "                   shear_range=0.2,\n",
        "                   zoom_range=0.2)\n",
        "\n",
        "test_datagen = ImageDataGenerator(rescale=1./255)"
      ],
      "metadata": {
        "id": "knlcouMaRl0d"
      },
      "execution_count": null,
      "outputs": []
    },
    {
      "cell_type": "code",
      "source": [
        "train_generator = train_datagen.flow_from_directory(\"/content/cats_and_dogs_filtered/train_2\",\n",
        "                                                    target_size=(150,150),\n",
        "                                                    batch_size=32)\n",
        "test_generator = test_datagen.flow_from_directory(\"/content/cats_and_dogs_filtered/validation\",\n",
        "                                                    target_size=(150,150),\n",
        "                                                    batch_size=32)"
      ],
      "metadata": {
        "id": "xH3K0EppSRdU"
      },
      "execution_count": null,
      "outputs": []
    },
    {
      "cell_type": "code",
      "source": [
        "base_model = tf.keras.applications.VGG16(weights='imagenet',\n",
        "                                         include_top=False,\n",
        "                                         input_shape=(150,150,3))"
      ],
      "metadata": {
        "id": "ROgYQ9wVS0xc"
      },
      "execution_count": null,
      "outputs": []
    },
    {
      "cell_type": "code",
      "source": [
        "model = Sequential([\n",
        "    base_model,\n",
        "    Flatten(),\n",
        "    Dense(256, activation='relu'),\n",
        "    Dense(128, activation='relu'),\n",
        "    Dense(64, activation='relu'),\n",
        "    Dropout(0.25),\n",
        "    Dense(2, activation='softmax')\n",
        "])"
      ],
      "metadata": {
        "id": "oD53wC7WTL6n"
      },
      "execution_count": null,
      "outputs": []
    },
    {
      "cell_type": "code",
      "source": [
        "model.summary()"
      ],
      "metadata": {
        "id": "xLPvNug0TW5G"
      },
      "execution_count": null,
      "outputs": []
    },
    {
      "cell_type": "code",
      "source": [
        "from tensorflow.keras.callbacks import EarlyStopping\n",
        "\n",
        "model.compile(optimizer=tf.keras.optimizers.Adam(1e-5),\n",
        "             loss='categorical_crossentropy',\n",
        "              metrics=['accuracy'])\n",
        "\n",
        "earlystopping = EarlyStopping(monitor='val_loss', patience=5)\n",
        "\n",
        "\n",
        "hist = model.fit_generator(train_generator,\n",
        "                   epochs=5,\n",
        "                   validation_data=test_generator,\n",
        "                   callbacks=[earlystopping])"
      ],
      "metadata": {
        "id": "cO7QnQBhTYRb"
      },
      "execution_count": null,
      "outputs": []
    },
    {
      "cell_type": "code",
      "source": [],
      "metadata": {
        "id": "mBkuuATyTs15"
      },
      "execution_count": null,
      "outputs": []
    }
  ]
}